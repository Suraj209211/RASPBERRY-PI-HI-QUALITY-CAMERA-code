{
 "cells": [
  {
   "cell_type": "code",
   "execution_count": null,
   "id": "c942aa1e",
   "metadata": {},
   "outputs": [],
   "source": [
    "import time \n",
    "import picamera\n",
    "import numpy as np\n",
    "from PIL import Images\n",
    "\n",
    "camera = picamera.Picamera()\n",
    "camera.resolution = (3300,2500)\n",
    "\n",
    "camera.sensor_mode = 2\n",
    "camera.framerate = 1/6\n",
    "\n",
    "time.sleep(2)\n",
    "\n",
    "raw_image = np.empty((camera.sensor_mode.width, camera.sensor_mode.height, 2), dtype=np.uint16)\n",
    "camera.capture(raw_image, 'raw')\n",
    "\n",
    "image = Image.frombytes('L',(camera.sensor_mode.width, camera.sensor_mode.height), raw_image.tobytes(),\n",
    "                       'raw','L;12')\n",
    "\n",
    "image_path = '/Desktop/Image Processing Project/RAW IMAGES'\n",
    "image.save(image_path)\n",
    "\n",
    "camera.close()"
   ]
  },
  {
   "cell_type": "code",
   "execution_count": null,
   "id": "ca585ab3",
   "metadata": {},
   "outputs": [],
   "source": [
    "import numpy as array\n",
    "width = 3300\n",
    "height = 2500\n",
    "channel = 3\n",
    "\n",
    "with open('image.raw', 'rb') as f:\n",
    "    image_data = np.fromfile(f, dtype = np.uint8)\n",
    "\n",
    "image_data = image_data.reshape((height,width,channels))\n",
    "\n",
    "plt.imshow(image_data)\n",
    "plt.show"
   ]
  },
  {
   "cell_type": "code",
   "execution_count": null,
   "id": "8acb272a",
   "metadata": {},
   "outputs": [],
   "source": [
    "import cyv2\n",
    "import numpy as np\n",
    "\n",
    "imp = cv2.imread()\n",
    "blur = cv2.GaussianBlur(img,(0,0),2)\n",
    "\n",
    "mask = cv2.addWeighted(img,1.5,mask,-0.5,0)\n",
    "\n",
    "img_sharpened = cv2.addWeighted(img, 1.5, mask, -0.5, 0)\n",
    "\n",
    "cv2.imshow('Original', img)\n",
    "cv2.imshow('Sharpened', img_sharpened)\n",
    "cv2.waitKey(0)\n",
    "cv2. destroyAllWindows()"
   ]
  },
  {
   "cell_type": "code",
   "execution_count": null,
   "id": "4cc80c68",
   "metadata": {},
   "outputs": [],
   "source": [
    "import time\n",
    "from picamera import PiCamera\n",
    "from piCamera.array import PiRGDArray\n",
    "\n",
    "camera = PiCamera()\n",
    "camera.resolution = (3300,2500)\n",
    "\n",
    "camera.sensor_mode = 3\n",
    "cameras.framerate = 1/6\n",
    "camera.shutter_speed = 6000000\n",
    "\n",
    "time.sleep(2)\n",
    "\n",
    "with PiRawArray(camera)as stream:\n",
    "    camera.capture(stream, 'png', bayer = True)\n",
    "    imge = stream.array\n",
    "    \n",
    "cv2.imshow('Raw', image)\n",
    "cv2.waitKey(0)\n",
    "cv2.destroyAllWindows()\n"
   ]
  },
  {
   "cell_type": "code",
   "execution_count": null,
   "id": "09078c90",
   "metadata": {},
   "outputs": [],
   "source": [
    "import cv2 \n",
    "import numpy as np\n",
    "\n",
    "pattern_size = (9,6)\n",
    "camera = cv2.VideoCapture(0)\n",
    "\n",
    "calibaration_image = []\n",
    "while len(calibration_images) < 10:\n",
    "    ret, frame = camera.read()\n",
    "    gray = cv2.cvtcolor(frame,cv2.COLOR_BGR2GRAY)\n",
    "    found, corners = cv2.findChessboardCornors(gray,patters_size,None)\n",
    "    \n",
    "    if found:\n",
    "        calibration_images.append((gray,corners))\n",
    "    cv2.imshow('Calibration',frame)\n",
    "    cv2.waitkey(50)\n",
    "    \n",
    "object_points = np.zeros((len(calibration_images) * pattern_size[0] * pattern_size[1], 3), np.float32)\n",
    "\n",
    "object_points[:, :2] = np.mgrid[0:pattern_size[0], 0:pattern_size[1]].T.reshape(-1, 2)\n",
    "\n",
    "image_points = [corners.reshape(-1, 2) for gray, corners in calibration_images]\n",
    "_, camera_matrix, dist_coeffs, _, _ = cv2.calibrateCamera(object_points, image_points, gray.shape[::-1], None, None)"
   ]
  }
 ],
 "metadata": {
  "kernelspec": {
   "display_name": "Python 3 (ipykernel)",
   "language": "python",
   "name": "python3"
  },
  "language_info": {
   "codemirror_mode": {
    "name": "ipython",
    "version": 3
   },
   "file_extension": ".py",
   "mimetype": "text/x-python",
   "name": "python",
   "nbconvert_exporter": "python",
   "pygments_lexer": "ipython3",
   "version": "3.10.9"
  }
 },
 "nbformat": 4,
 "nbformat_minor": 5
}
