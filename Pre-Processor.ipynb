{
 "cells": [
  {
   "cell_type": "code",
   "execution_count": null,
   "metadata": {},
   "outputs": [],
   "source": [
    "import cv2\n",
    "import numpy as np\n",
    "\n",
    "\n",
    "raw_image = cv2.imread('image.raw', cv2.IMREAD_UNCHANGED)\n",
    "\n",
    "bayer_image = cv2.cvtColor(raw_image, cv2.COLOR_BAYER_RG2RGB)\n",
    "demosaiced_image = cv2.cvtColor(bayer_image, cv2.COLOR_RGB2BGR)\n",
    "\n",
    "gray_image = cv2.cvtColor(demosaiced_image, cv2.COLOR_BGR2GRAY)\n",
    "gray_mean = np.mean(gray_image)\n",
    "wb_image = demosaiced_image.copy()\n",
    "wb_image[:, :, 0] = wb_image[:, :, 0] * 128 / gray_mean\n",
    "wb_image[:, :, 2] = wb_image[:, :, 2] * 128 / gray_mean\n",
    "\n",
    "gamma_image = np.power(wb_image / 255.0, 1/2.2) * 255.0\n",
    "gamma_image = np.clip(gamma_image, 0, 255).astype(np.uint8)\n",
    "\n",
    "cv2.imshow('Pre-processed', gamma_image)\n",
    "cv2.waitKey(0)\n",
    "cv2.destroyAllWindows()"
   ]
  }
 ],
 "metadata": {
  "kernelspec": {
   "display_name": "Python 3 (ipykernel)",
   "language": "python",
   "name": "python3"
  },
  "language_info": {
   "codemirror_mode": {
    "name": "ipython",
    "version": 3
   },
   "file_extension": ".py",
   "mimetype": "text/x-python",
   "name": "python",
   "nbconvert_exporter": "python",
   "pygments_lexer": "ipython3",
   "version": "3.10.9"
  }
 },
 "nbformat": 4,
 "nbformat_minor": 2
}
